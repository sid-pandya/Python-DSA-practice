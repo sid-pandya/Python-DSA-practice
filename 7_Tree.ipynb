{
 "cells": [
  {
   "cell_type": "markdown",
   "metadata": {},
   "source": [
    "1. **Below is the management hierarchy of a company.**\n",
    "\n"
   ]
  },
  {
   "cell_type": "code",
   "execution_count": 1,
   "metadata": {},
   "outputs": [],
   "source": [
    "class TreeNode:\n",
    "    def __init__(self, name, designation):\n",
    "        self.name = name\n",
    "        self.designation = designation\n",
    "        self.children = []\n",
    "        self.parent = None\n",
    "\n",
    "    def get_level(self):\n",
    "        level = 0\n",
    "        p = self.parent\n",
    "        while p:\n",
    "            level += 1\n",
    "            p = p.parent\n",
    "\n",
    "        return level\n",
    "\n",
    "    def print_tree(self, property_name):\n",
    "        if property_name == 'both':\n",
    "            value = self.name + \" (\" + self.designation + \")\"\n",
    "        elif property_name == 'name':\n",
    "            value = self.name\n",
    "        else:\n",
    "            value = self.designation\n",
    "\n",
    "        spaces = ' ' * self.get_level() * 3\n",
    "        prefix = spaces + \"|__\" if self.parent else \"\"\n",
    "        print(prefix + value)\n",
    "        if self.children:\n",
    "            for child in self.children:\n",
    "                child.print_tree(property_name)\n",
    "\n",
    "    def add_child(self, child):\n",
    "        child.parent = self\n",
    "        self.children.append(child)"
   ]
  },
  {
   "cell_type": "code",
   "execution_count": 8,
   "metadata": {},
   "outputs": [
    {
     "name": "stdout",
     "output_type": "stream",
     "text": [
      "NiluPul\n",
      "   |__Chinmay\n",
      "      |__Vishwa\n",
      "         |__Dhaval\n",
      "         |__Abhijit\n",
      "      |__Aamir\n",
      "   |__Gels\n",
      "      |__Peter\n",
      "      |__Waqas\n",
      "NiluPul (CEO)\n",
      "   |__Chinmay (CTO)\n",
      "      |__Vishwa (Infrastructure Head)\n",
      "         |__Dhaval (Cloud Manager)\n",
      "         |__Abhijit (App Manager)\n",
      "      |__Aamir (Application Head)\n",
      "   |__Gels (HR Head)\n",
      "      |__Peter (Recruitment Manager)\n",
      "      |__Waqas (Plicy Manager)\n"
     ]
    }
   ],
   "source": [
    "def build_management_tree():\n",
    "\n",
    "\n",
    "    #CTO\n",
    "\n",
    "    infra_head = TreeNode(\"Vishwa\",\"Infrastructure Head\")\n",
    "    infra_head.add_child(TreeNode(\"Dhaval\",\"Cloud Manager\"))\n",
    "    infra_head.add_child(TreeNode(\"Abhijit\",\"App Manager\"))\n",
    "\n",
    "    app_head = TreeNode(\"Aamir\",\"Application Head\")\n",
    "\n",
    "    cto = TreeNode(\"Chinmay\",\"CTO\")\n",
    "    cto.add_child(infra_head)\n",
    "    cto.add_child(app_head)\n",
    "\n",
    "    #HR\n",
    "    hr_head = TreeNode(\"Gels\",\"HR Head\")\n",
    "\n",
    "    hr_head.add_child(TreeNode(\"Peter\",\"Recruitment Manager\"))\n",
    "    hr_head.add_child(TreeNode(\"Waqas\",\"Plicy Manager\"))\n",
    "\n",
    "    ceo = TreeNode(\"NiluPul\",\"CEO\")\n",
    "    ceo.add_child(cto)\n",
    "    ceo.add_child(hr_head)\n",
    "    return ceo\n",
    "    \n",
    "  \n",
    "\n",
    "\n",
    "if __name__ == '__main__':\n",
    "    root_node = build_management_tree()\n",
    "    root_node.print_tree(\"name\")\n",
    "    root_node.print_tree(\"designation\")\n",
    "    root_node.print_tree(\"both\")\n",
    "\n",
    "\n",
    "\n"
   ]
  },
  {
   "cell_type": "markdown",
   "metadata": {},
   "source": []
  },
  {
   "cell_type": "markdown",
   "metadata": {},
   "source": [
    " 2. **Build below location tree using TreeNode class**\n",
    "\n",
    "\n"
   ]
  },
  {
   "cell_type": "code",
   "execution_count": 18,
   "metadata": {},
   "outputs": [],
   "source": [
    "class TreeNode:\n",
    "    def __init__(self,location):\n",
    "        self.location = location\n",
    "        self.children = []\n",
    "        self.parent = None\n",
    "    \n",
    "    def get_level(self):\n",
    "        level = 0\n",
    "        p = self.parent\n",
    "        while p:\n",
    "            level += 1\n",
    "            p = p.parent\n",
    "        return level\n",
    "    \n",
    "    def print_tree(self,level):\n",
    "        if self.get_level() > level:\n",
    "            return\n",
    "        spaces = ' ' * self.get_level() * 3\n",
    "        prefix = spaces + \"|--\" if self.parent else \"\"\n",
    "        print(prefix +self.location)\n",
    "        if self.children:\n",
    "            for c in self.children:\n",
    "                c.print_tree(level)\n",
    "\n",
    "    def add_child(self,child):\n",
    "        child.parent = self\n",
    "        self.children.append(child)\n",
    "\n"
   ]
  },
  {
   "cell_type": "code",
   "execution_count": 20,
   "metadata": {},
   "outputs": [
    {
     "name": "stdout",
     "output_type": "stream",
     "text": [
      "Global\n",
      "   |--India\n",
      "      |--Gujarat\n",
      "         |--Ahmedabad\n",
      "         |--Baroda\n",
      "      |--Karnataka\n",
      "         |--Bangluru\n",
      "         |--Mysore\n",
      "   |--USA\n",
      "      |--New Jersey\n",
      "         |--Princeton\n",
      "         |--Trenton\n",
      "      |--California\n",
      "         |--San Francisco\n",
      "         |--Cuppartino\n",
      "Global\n",
      "   |--India\n",
      "      |--Gujarat\n",
      "      |--Karnataka\n",
      "   |--USA\n",
      "      |--New Jersey\n",
      "      |--California\n",
      "Global\n",
      "   |--India\n",
      "   |--USA\n"
     ]
    }
   ],
   "source": [
    "def build_location_tree():\n",
    "    root = TreeNode(\"Global\")\n",
    "\n",
    "    india = TreeNode(\"India\")\n",
    "    gujarat = TreeNode(\"Gujarat\")\n",
    "    gujarat.add_child(TreeNode(\"Ahmedabad\"))\n",
    "    gujarat.add_child(TreeNode(\"Baroda\"))\n",
    "\n",
    "    karnataka = TreeNode(\"Karnataka\")\n",
    "    karnataka.add_child(TreeNode(\"Bangluru\"))\n",
    "    karnataka.add_child(TreeNode(\"Mysore\"))\n",
    "\n",
    "    india.add_child(gujarat)\n",
    "    india.add_child(karnataka)\n",
    "\n",
    "    usa = TreeNode(\"USA\")\n",
    "\n",
    "    nj = TreeNode(\"New Jersey\")\n",
    "    nj.add_child(TreeNode(\"Princeton\"))\n",
    "    nj.add_child(TreeNode(\"Trenton\"))\n",
    "\n",
    "    cali = TreeNode(\"California\")\n",
    "    cali.add_child(TreeNode(\"San Francisco\"))\n",
    "    cali.add_child(TreeNode(\"Cuppartino\"))\n",
    "\n",
    "    usa.add_child(nj)\n",
    "    usa.add_child(cali)\n",
    "\n",
    "    root.add_child(india)\n",
    "    root.add_child(usa)\n",
    "    return root\n",
    "\n",
    "    \n",
    "if __name__ == '__main__':\n",
    "    root_node = build_location_tree()\n",
    "    root_node.print_tree(3)\n",
    "    root_node.print_tree(2)\n",
    "    root_node.print_tree(1)"
   ]
  },
  {
   "cell_type": "code",
   "execution_count": null,
   "metadata": {},
   "outputs": [],
   "source": []
  }
 ],
 "metadata": {
  "kernelspec": {
   "display_name": "Python 3.9.13 64-bit",
   "language": "python",
   "name": "python3"
  },
  "language_info": {
   "codemirror_mode": {
    "name": "ipython",
    "version": 3
   },
   "file_extension": ".py",
   "mimetype": "text/x-python",
   "name": "python",
   "nbconvert_exporter": "python",
   "pygments_lexer": "ipython3",
   "version": "3.9.13"
  },
  "orig_nbformat": 4,
  "vscode": {
   "interpreter": {
    "hash": "aee8b7b246df8f9039afb4144a1f6fd8d2ca17a180786b69acc140d282b71a49"
   }
  }
 },
 "nbformat": 4,
 "nbformat_minor": 2
}
