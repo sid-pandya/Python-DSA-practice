{
 "cells": [
  {
   "cell_type": "code",
   "execution_count": 15,
   "metadata": {},
   "outputs": [],
   "source": [
    "from collections import deque\n",
    "\n",
    "\n",
    "class Queue:\n",
    "    def __init__(self):\n",
    "        self.buffer = deque()\n",
    "\n",
    "    def enqueue(self, val):\n",
    "        self.buffer.appendleft(val)\n",
    "\n",
    "    def dequeue(self):\n",
    "        if len(self.buffer)==0:\n",
    "            print(\"Queue is empty\")\n",
    "            return\n",
    "\n",
    "        return self.buffer.pop()\n",
    "\n",
    "    def is_empty(self):\n",
    "        return len(self.buffer) == 0\n",
    "\n",
    "    def size(self):\n",
    "        return len(self.buffer)\n",
    "    def front(self):\n",
    "        return self.buffer[-1]\n"
   ]
  },
  {
   "cell_type": "markdown",
   "metadata": {},
   "source": [
    "1. Design a food ordering system where your python program will run two threads,\n",
    "\n",
    "i) Place Order: This thread will be placing an order and inserting that into a queue. This thread places new order every 0.5 second. (hint: use time.sleep(0.5) function)  \n",
    "\n",
    "ii) Serve Order: This thread will server the order. All you need to do is pop the order out of the queue and print it. This thread serves an order every 2 seconds. Also start this thread 1 second after place order thread is started.\n",
    "\n",
    "Use this video to get yourself familiar with multithreading in python\n",
    "\n",
    "Pass following list as an argument to place order thread,\n",
    "\n",
    "orders = ['pizza','samosa','pasta','biryani','burger']  \n",
    "\n",
    "This problem is a producer,consumer problem where place_order thread is producing orders whereas server_order thread is consuming the food orders. Use Queue class implemented in a video tutorial.\n",
    "\n"
   ]
  },
  {
   "cell_type": "code",
   "execution_count": 29,
   "metadata": {},
   "outputs": [
    {
     "name": "stdout",
     "output_type": "stream",
     "text": [
      "\n",
      "Placing order for: pizza\n"
     ]
    },
    {
     "name": "stdout",
     "output_type": "stream",
     "text": [
      "\n",
      "Placing order for: samosa\n",
      "Now Serving: \n",
      "Placing order for: pasta\n",
      " pizza <module 'time' (built-in)>\n",
      "\n",
      "Placing order for: biryani\n",
      "\n",
      "Placing order for: burger\n",
      "Now Serving:  samosa <module 'time' (built-in)>\n",
      "Now Serving:  pasta <module 'time' (built-in)>\n",
      "Now Serving:  biryani <module 'time' (built-in)>\n",
      "Now Serving:  burger <module 'time' (built-in)>\n"
     ]
    }
   ],
   "source": [
    "import threading\n",
    "import time\n",
    "        \n",
    "q = Queue()\n",
    "\n",
    "def place_order(orders):\n",
    "    for i in orders:\n",
    "        print(\"\\nPlacing order for:\",i)       \n",
    "        q.enqueue(i)\n",
    "        time.sleep(0.5)\n",
    "def serve_order():\n",
    "    time.sleep(1)\n",
    "    while not q.is_empty():\n",
    "        i = q.dequeue()\n",
    "        print(\"Now Serving: \",i, end=\" \")\n",
    "        #print(time().time)\n",
    "        time.sleep(2)\n",
    "\n",
    "orders = ['pizza','samosa','pasta','biryani','burger']\n",
    "\n",
    "t1 = threading.Thread(target=place_order, args=(orders,))\n",
    "t2 = threading.Thread(target=serve_order)\n",
    "\n",
    "t1.start()\n",
    "t2.start()\n",
    "\n",
    "\n"
   ]
  },
  {
   "cell_type": "markdown",
   "metadata": {},
   "source": [
    "2. Write a program to print binary numbers from 1 to 10 using Queue. Use Queue class implemented in main tutorial. Binary sequence should look like,\n",
    "\n",
    "```\n",
    "    1\n",
    "    10\n",
    "    11\n",
    "    100\n",
    "    101\n",
    "    110\n",
    "    111\n",
    "    1000\n",
    "    1001\n",
    "    1010\n",
    "```"
   ]
  },
  {
   "cell_type": "code",
   "execution_count": 19,
   "metadata": {},
   "outputs": [],
   "source": [
    "def binary_numbers(n):\n",
    "    nq = Queue()\n",
    "    nq.enqueue(\"1\")\n",
    "\n",
    "    for i in range(n):\n",
    "        front = nq.front()\n",
    "        print(\"  \", front)\n",
    "        nq.enqueue(front + \"0\")\n",
    "        nq.enqueue(front + \"1\")\n",
    "\n",
    "        nq.dequeue()"
   ]
  },
  {
   "cell_type": "code",
   "execution_count": 22,
   "metadata": {},
   "outputs": [
    {
     "name": "stdout",
     "output_type": "stream",
     "text": [
      "   1\n",
      "   10\n",
      "   11\n",
      "   100\n",
      "   101\n",
      "   110\n",
      "   111\n",
      "   1000\n",
      "   1001\n",
      "   1010\n"
     ]
    }
   ],
   "source": [
    "binary_numbers(10)\n"
   ]
  },
  {
   "cell_type": "code",
   "execution_count": null,
   "metadata": {},
   "outputs": [],
   "source": []
  }
 ],
 "metadata": {
  "kernelspec": {
   "display_name": "Python 3.9.13 64-bit",
   "language": "python",
   "name": "python3"
  },
  "language_info": {
   "codemirror_mode": {
    "name": "ipython",
    "version": 3
   },
   "file_extension": ".py",
   "mimetype": "text/x-python",
   "name": "python",
   "nbconvert_exporter": "python",
   "pygments_lexer": "ipython3",
   "version": "3.9.13"
  },
  "orig_nbformat": 4,
  "vscode": {
   "interpreter": {
    "hash": "aee8b7b246df8f9039afb4144a1f6fd8d2ca17a180786b69acc140d282b71a49"
   }
  }
 },
 "nbformat": 4,
 "nbformat_minor": 2
}
