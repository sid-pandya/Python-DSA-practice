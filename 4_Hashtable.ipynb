{
 "cells": [
  {
   "cell_type": "markdown",
   "metadata": {},
   "source": [
    "\n",
    "**(1)** nyc_weather.csv contains new york city weather for first few days in the month of January. Write a program that can answer following, \n",
    "\n",
    "      (a) What was the average temperature in first week of Jan\n",
    "\n",
    "      (b) What was the maximum temperature in first 10 days of Jan\n",
    "\n",
    "      Figure out data structure that is best for this problem"
   ]
  },
  {
   "cell_type": "code",
   "execution_count": null,
   "metadata": {},
   "outputs": [],
   "source": [
    "arr = []\n",
    "\n",
    "with open(\"nyc_weather.csv\",\"r\") as f:\n",
    "    for line in f:\n",
    "        tokens = line.split(',')\n",
    "        try:\n",
    "            temp = int(tokens[1])\n",
    "            arr.append(temp)\n",
    "        except:\n",
    "            print(\"Invalid !\")\n"
   ]
  },
  {
   "cell_type": "code",
   "execution_count": null,
   "metadata": {},
   "outputs": [],
   "source": [
    "arr"
   ]
  },
  {
   "cell_type": "markdown",
   "metadata": {},
   "source": [
    "**What was the average temperature in first week of Jan**"
   ]
  },
  {
   "cell_type": "code",
   "execution_count": null,
   "metadata": {},
   "outputs": [],
   "source": [
    "sum(arr[0:7])/len(arr[0:7])"
   ]
  },
  {
   "cell_type": "markdown",
   "metadata": {},
   "source": [
    "**What was the maximum temperature in first 10 days of Jan**"
   ]
  },
  {
   "cell_type": "code",
   "execution_count": null,
   "metadata": {},
   "outputs": [],
   "source": [
    "max(arr[0:10])"
   ]
  },
  {
   "cell_type": "markdown",
   "metadata": {},
   "source": [
    "**The best data structure to use here was a list because all we wanted was access of temperature elements**"
   ]
  },
  {
   "cell_type": "markdown",
   "metadata": {},
   "source": [
    "<hr>\n"
   ]
  },
  {
   "cell_type": "markdown",
   "metadata": {},
   "source": [
    "\n",
    "**(2)** nyc_weather.csv contains new york city weather for first few days in the month of January. Write a program that can answer following, \n",
    "\n",
    "      (a) What was the temperature on Jan 9?\n",
    "\n",
    "      (b) What was the temperature on Jan 4?\n",
    "\n",
    "      Figure out data structure that is best for this problem"
   ]
  },
  {
   "cell_type": "code",
   "execution_count": null,
   "metadata": {},
   "outputs": [],
   "source": [
    "dict = {}\n",
    "\n",
    "with open (\"nyc_weather.csv\",\"r\") as f:\n",
    "    for line in f:\n",
    "        tokens = line.split(',')\n",
    "        day = tokens[0]\n",
    "        try:\n",
    "            temp = int(tokens[1])\n",
    "            dict[day] = temp\n",
    "        except:\n",
    "            print(\"Invalid !\")"
   ]
  },
  {
   "cell_type": "code",
   "execution_count": null,
   "metadata": {},
   "outputs": [],
   "source": [
    "dict"
   ]
  },
  {
   "cell_type": "markdown",
   "metadata": {},
   "source": [
    "**What was the temperature on Jan 9**"
   ]
  },
  {
   "cell_type": "code",
   "execution_count": null,
   "metadata": {},
   "outputs": [],
   "source": [
    "dict[\"Jan 9\"]"
   ]
  },
  {
   "cell_type": "markdown",
   "metadata": {},
   "source": [
    "**What was the temperature on Jan 4**"
   ]
  },
  {
   "cell_type": "code",
   "execution_count": null,
   "metadata": {},
   "outputs": [],
   "source": [
    "dict[\"Jan 4\"]"
   ]
  },
  {
   "cell_type": "markdown",
   "metadata": {},
   "source": [
    "**The best data structure to use here was a dictionary (internally a hash table) because we wanted to know temperature for specific day, requiring key, value pair access where you can look up an element by day using O(1) complexity**"
   ]
  },
  {
   "cell_type": "markdown",
   "metadata": {},
   "source": [
    "<hr>"
   ]
  },
  {
   "cell_type": "markdown",
   "metadata": {},
   "source": [
    "**3 poem.txt Contains famous poem \"Road not taken\" by poet Robert Frost. You have to read this file in python and print every word and its count as show below. Think about the best data structure that you can use to solve this problem and figure out why you selected that specific data structure.**"
   ]
  },
  {
   "cell_type": "code",
   "execution_count": null,
   "metadata": {},
   "outputs": [],
   "source": [
    "count = {}\n",
    "with open(\"poem.txt\",\"r\") as f:\n",
    "    for line in f:\n",
    "        word = line.split(\" \")\n",
    "        for w in word:\n",
    "            w = w.replace(\"\\n\",\"\")\n",
    "            if w in count:\n",
    "                count[w] += 1\n",
    "            else:\n",
    "                count[w] = 1\n"
   ]
  },
  {
   "cell_type": "code",
   "execution_count": null,
   "metadata": {},
   "outputs": [],
   "source": [
    "count"
   ]
  },
  {
   "cell_type": "code",
   "execution_count": null,
   "metadata": {},
   "outputs": [],
   "source": [
    "word_max = max(count,key=count.get)"
   ]
  },
  {
   "cell_type": "code",
   "execution_count": null,
   "metadata": {},
   "outputs": [],
   "source": [
    "word_max"
   ]
  },
  {
   "cell_type": "code",
   "execution_count": null,
   "metadata": {},
   "outputs": [],
   "source": []
  },
  {
   "cell_type": "markdown",
   "metadata": {},
   "source": [
    "<hr>"
   ]
  },
  {
   "cell_type": "markdown",
   "metadata": {},
   "source": [
    "**4) Implement hash table where collisions are handled using linear probing. We learnt about linear probing in the video tutorial. Take the hash table implementation that uses chaining and modify methods to use linear probing. Keep MAX size of arr in hashtable as 10.**"
   ]
  },
  {
   "cell_type": "code",
   "execution_count": 1,
   "metadata": {},
   "outputs": [],
   "source": [
    "class HashTable:\n",
    "    def __init__(self):\n",
    "        self.MAX = 10\n",
    "        self.arr = [None for i in range(self.MAX)]\n",
    "\n",
    "    def get_hash(self,key):\n",
    "        hash = 0\n",
    "        for char in key:\n",
    "            hash += ord(char)\n",
    "        return hash % self.MAX\n",
    "    \n",
    "    def __getitem__(self,key):\n",
    "        h = self.get_hash(key)\n",
    "        if self.arr[h] is None:\n",
    "            return\n",
    "        prob_range = self.get_prob_range(h)\n",
    "        for prob_index in prob_range:\n",
    "            element = self.arr[prob_index]\n",
    "            if element is None:\n",
    "                return\n",
    "            if element[0] ==key:\n",
    "                return element[1]\n",
    "    \n",
    "    def __setitem__(self,key,val):\n",
    "        h = self.get_hash(key)\n",
    "        if self.arr[h] is None:\n",
    "            self.arr[h] = (key,val)\n",
    "        else:\n",
    "            new_h = self.find_slot(key,h)\n",
    "            self.arr[new_h] = (key,val)\n",
    "        print(self.arr)\n",
    "\n",
    "\n",
    "    def get_prob_range(self,index):\n",
    "        return [*range(index,len(self.arr))] + [*range(0,index)]\n",
    "\n",
    "    def find_slot(self,key,index):\n",
    "        prob_range = self.get_prob_range(index)\n",
    "        for prob_index in prob_range:\n",
    "            if self.arr[prob_index] is None:\n",
    "                return prob_index\n",
    "            if self.arr[prob_index][0] == key:\n",
    "                return prob_index\n",
    "        raise Exception(\"HashMap is full\")\n",
    "\n",
    "    def __delitem__(self,key):\n",
    "        h = self.get_hash(key)\n",
    "        prob_range = self.get_prob_range(h)\n",
    "        for prob_index in prob_range:\n",
    "            if self.arr[prob_index] is None:\n",
    "                return\n",
    "            if self.arr[prob_index][0] == key:\n",
    "                self.arr[prob_index] = None\n",
    "            print(self.arr)\n"
   ]
  },
  {
   "cell_type": "code",
   "execution_count": 2,
   "metadata": {},
   "outputs": [
    {
     "data": {
      "text/plain": [
       "[5, 6, 7, 0, 1, 2, 3]"
      ]
     },
     "execution_count": 2,
     "metadata": {},
     "output_type": "execute_result"
    }
   ],
   "source": [
    "[*range(5,8)] + [*range(0,4)]"
   ]
  },
  {
   "cell_type": "code",
   "execution_count": 3,
   "metadata": {},
   "outputs": [
    {
     "name": "stdout",
     "output_type": "stream",
     "text": [
      "[None, None, None, None, None, None, None, None, None, ('march 6', 20)]\n",
      "[None, None, None, None, ('march 1', 88), None, None, None, None, ('march 6', 20)]\n"
     ]
    }
   ],
   "source": [
    "t = HashTable()\n",
    "t[\"march 6\"] = 20\n",
    "t[\"march 1\"] =  88"
   ]
  },
  {
   "cell_type": "code",
   "execution_count": 4,
   "metadata": {},
   "outputs": [
    {
     "name": "stdout",
     "output_type": "stream",
     "text": [
      "[('march 17', 29), None, None, None, ('march 1', 88), None, None, None, None, ('march 6', 20)]\n"
     ]
    }
   ],
   "source": [
    "t[\"march 17\"] = 29\n"
   ]
  },
  {
   "cell_type": "code",
   "execution_count": 5,
   "metadata": {},
   "outputs": [
    {
     "name": "stdout",
     "output_type": "stream",
     "text": [
      "[('march 17', 29), ('nov 1', 1), None, None, ('march 1', 88), None, None, None, None, ('march 6', 20)]\n"
     ]
    }
   ],
   "source": [
    "t[\"nov 1\"] = 1"
   ]
  },
  {
   "cell_type": "code",
   "execution_count": 6,
   "metadata": {},
   "outputs": [
    {
     "name": "stdout",
     "output_type": "stream",
     "text": [
      "[('march 17', 29), ('nov 1', 1), None, None, ('march 1', 88), None, None, ('march 33', 234), None, ('march 6', 20)]\n"
     ]
    }
   ],
   "source": [
    "t[\"march 33\"] = 234"
   ]
  },
  {
   "cell_type": "code",
   "execution_count": 16,
   "metadata": {},
   "outputs": [],
   "source": [
    "t[\"dec 1\"]"
   ]
  },
  {
   "cell_type": "code",
   "execution_count": 17,
   "metadata": {},
   "outputs": [
    {
     "data": {
      "text/plain": [
       "234"
      ]
     },
     "execution_count": 17,
     "metadata": {},
     "output_type": "execute_result"
    }
   ],
   "source": [
    "t[\"march 33\"]"
   ]
  },
  {
   "cell_type": "code",
   "execution_count": 18,
   "metadata": {},
   "outputs": [
    {
     "name": "stdout",
     "output_type": "stream",
     "text": [
      "[('march 17', 29), ('nov 1', 1), None, None, ('march 1', 88), None, None, ('march 33', 999), None, ('march 6', 20)]\n"
     ]
    }
   ],
   "source": [
    "t[\"march 33\"] = 999"
   ]
  },
  {
   "cell_type": "code",
   "execution_count": 7,
   "metadata": {},
   "outputs": [
    {
     "data": {
      "text/plain": [
       "234"
      ]
     },
     "execution_count": 7,
     "metadata": {},
     "output_type": "execute_result"
    }
   ],
   "source": [
    "t[\"march 33\"]"
   ]
  },
  {
   "cell_type": "code",
   "execution_count": 8,
   "metadata": {},
   "outputs": [
    {
     "name": "stdout",
     "output_type": "stream",
     "text": [
      "[('march 17', 29), ('nov 1', 1), None, None, ('march 1', 88), None, None, ('march 33', 234), ('april 1', 87), ('march 6', 20)]\n"
     ]
    }
   ],
   "source": [
    "t[\"april 1\"]=87"
   ]
  },
  {
   "cell_type": "code",
   "execution_count": null,
   "metadata": {},
   "outputs": [],
   "source": []
  },
  {
   "cell_type": "code",
   "execution_count": 9,
   "metadata": {},
   "outputs": [
    {
     "name": "stdout",
     "output_type": "stream",
     "text": [
      "[('march 17', 29), ('nov 1', 1), ('april 3', 234234), None, ('march 1', 88), None, None, ('march 33', 234), ('april 1', 87), ('march 6', 20)]\n"
     ]
    }
   ],
   "source": [
    "t[\"april 3\"]=234234"
   ]
  },
  {
   "cell_type": "code",
   "execution_count": null,
   "metadata": {},
   "outputs": [],
   "source": []
  },
  {
   "cell_type": "code",
   "execution_count": 10,
   "metadata": {},
   "outputs": [
    {
     "name": "stdout",
     "output_type": "stream",
     "text": [
      "[('march 17', 29), ('nov 1', 1), ('april 3', 234234), ('May 22', 4), ('march 1', 88), None, None, ('march 33', 234), ('april 1', 87), ('march 6', 20)]\n"
     ]
    }
   ],
   "source": [
    "t[\"May 22\"]=4"
   ]
  },
  {
   "cell_type": "code",
   "execution_count": 11,
   "metadata": {},
   "outputs": [
    {
     "name": "stdout",
     "output_type": "stream",
     "text": [
      "[('march 17', 29), ('nov 1', 1), ('april 3', 234234), ('May 22', 4), ('march 1', 88), ('May 7', 47), None, ('march 33', 234), ('april 1', 87), ('march 6', 20)]\n"
     ]
    }
   ],
   "source": [
    "t[\"May 7\"]=47"
   ]
  },
  {
   "cell_type": "code",
   "execution_count": 12,
   "metadata": {},
   "outputs": [
    {
     "name": "stdout",
     "output_type": "stream",
     "text": [
      "[('march 17', 29), ('nov 1', 1), ('april 3', 234234), ('May 22', 4), ('march 1', 88), ('May 7', 47), ('Jan 1', 0), ('march 33', 234), ('april 1', 87), ('march 6', 20)]\n"
     ]
    }
   ],
   "source": [
    "t[\"Jan 1\"]=0"
   ]
  },
  {
   "cell_type": "code",
   "execution_count": 13,
   "metadata": {},
   "outputs": [
    {
     "name": "stdout",
     "output_type": "stream",
     "text": [
      "[('march 17', 29), ('nov 1', 1), ('april 3', 234234), ('May 22', 4), ('march 1', 88), ('May 7', 47), ('Jan 1', 0), ('march 33', 234), ('april 1', 87), ('march 6', 20)]\n",
      "[('march 17', 29), ('nov 1', 1), ('april 3', 234234), ('May 22', 4), ('march 1', 88), ('May 7', 47), ('Jan 1', 0), ('march 33', 234), ('april 1', 87), ('march 6', 20)]\n",
      "[('march 17', 29), ('nov 1', 1), ('april 3', 234234), ('May 22', 4), ('march 1', 88), ('May 7', 47), ('Jan 1', 0), ('march 33', 234), ('april 1', 87), ('march 6', 20)]\n",
      "[('march 17', 29), ('nov 1', 1), ('april 3', 234234), ('May 22', 4), ('march 1', 88), ('May 7', 47), ('Jan 1', 0), ('march 33', 234), ('april 1', 87), ('march 6', 20)]\n",
      "[('march 17', 29), ('nov 1', 1), ('april 3', 234234), ('May 22', 4), ('march 1', 88), ('May 7', 47), ('Jan 1', 0), ('march 33', 234), ('april 1', 87), ('march 6', 20)]\n",
      "[('march 17', 29), ('nov 1', 1), ('april 3', 234234), ('May 22', 4), ('march 1', 88), ('May 7', 47), ('Jan 1', 0), ('march 33', 234), ('april 1', 87), ('march 6', 20)]\n",
      "[('march 17', 29), ('nov 1', 1), ('april 3', 234234), ('May 22', 4), ('march 1', 88), ('May 7', 47), ('Jan 1', 0), ('march 33', 234), ('april 1', 87), ('march 6', 20)]\n",
      "[('march 17', 29), ('nov 1', 1), ('april 3', 234234), ('May 22', 4), ('march 1', 88), ('May 7', 47), ('Jan 1', 0), ('march 33', 234), ('april 1', 87), ('march 6', 20)]\n",
      "[('march 17', 29), ('nov 1', 1), ('april 3', 234234), ('May 22', 4), ('march 1', 88), ('May 7', 47), ('Jan 1', 0), ('march 33', 234), ('april 1', 87), ('march 6', 20)]\n",
      "[('march 17', 29), ('nov 1', 1), ('april 3', 234234), ('May 22', 4), ('march 1', 88), ('May 7', 47), ('Jan 1', 0), ('march 33', 234), ('april 1', 87), ('march 6', 20)]\n"
     ]
    }
   ],
   "source": [
    "del t[\"april 2\"]"
   ]
  },
  {
   "cell_type": "code",
   "execution_count": 14,
   "metadata": {},
   "outputs": [
    {
     "name": "stdout",
     "output_type": "stream",
     "text": [
      "[('march 17', 29), ('nov 1', 1), ('april 3', 234234), ('May 22', 4), ('march 1', 88), ('May 7', 47), ('Jan 1', 0), ('march 33', 234), ('april 1', 87), ('march 6', 20)]\n",
      "[('march 17', 29), ('nov 1', 1), ('april 3', 234234), ('May 22', 4), ('march 1', 88), ('May 7', 47), ('Jan 1', 0), ('march 33', 234), ('april 1', 87), ('march 6', 20)]\n",
      "[('march 17', 29), ('nov 1', 1), ('april 3', 234234), ('May 22', 4), ('march 1', 88), ('May 7', 47), ('Jan 1', 0), ('march 33', 234), ('april 1', 87), ('march 6', 20)]\n",
      "[('march 17', 29), ('nov 1', 1), ('april 3', 234234), ('May 22', 4), ('march 1', 88), ('May 7', 47), ('Jan 1', 0), ('march 33', 234), ('april 1', 87), ('march 6', 20)]\n",
      "[('march 17', 29), ('nov 1', 1), ('april 3', 234234), ('May 22', 4), ('march 1', 88), ('May 7', 47), ('Jan 1', 0), ('march 33', 234), ('april 1', 87), ('march 6', 20)]\n",
      "[('march 17', 29), ('nov 1', 1), ('april 3', 234234), ('May 22', 4), ('march 1', 88), ('May 7', 47), ('Jan 1', 0), ('march 33', 234), ('april 1', 87), ('march 6', 20)]\n",
      "[('march 17', 29), ('nov 1', 1), ('april 3', 234234), ('May 22', 4), ('march 1', 88), ('May 7', 47), ('Jan 1', 0), ('march 33', 234), ('april 1', 87), ('march 6', 20)]\n",
      "[('march 17', 29), ('nov 1', 1), ('april 3', 234234), ('May 22', 4), ('march 1', 88), ('May 7', 47), ('Jan 1', 0), ('march 33', 234), ('april 1', 87), ('march 6', 20)]\n",
      "[('march 17', 29), ('nov 1', 1), ('april 3', 234234), ('May 22', 4), ('march 1', 88), ('May 7', 47), ('Jan 1', 0), ('march 33', 234), ('april 1', 87), ('march 6', 20)]\n",
      "[('march 17', 29), ('nov 1', 1), ('april 3', 234234), ('May 22', 4), ('march 1', 88), ('May 7', 47), ('Jan 1', 0), ('march 33', 234), ('april 1', 87), ('march 6', 20)]\n"
     ]
    }
   ],
   "source": [
    "del t[\"Jan 9\"]"
   ]
  },
  {
   "cell_type": "code",
   "execution_count": 15,
   "metadata": {},
   "outputs": [
    {
     "ename": "Exception",
     "evalue": "HashMap is full",
     "output_type": "error",
     "traceback": [
      "\u001b[0;31m---------------------------------------------------------------------------\u001b[0m",
      "\u001b[0;31mException\u001b[0m                                 Traceback (most recent call last)",
      "\u001b[1;32m/Users/sid/Desktop/Python Projects/4_Hashtable.ipynb Cell 46'\u001b[0m in \u001b[0;36m<cell line: 1>\u001b[0;34m()\u001b[0m\n\u001b[0;32m----> <a href='vscode-notebook-cell:/Users/sid/Desktop/Python%20Projects/4_Hashtable.ipynb#ch0000050?line=0'>1</a>\u001b[0m t[\u001b[39m\"\u001b[39m\u001b[39mJan 7\u001b[39m\u001b[39m\"\u001b[39m]\u001b[39m=\u001b[39m\u001b[39m0\u001b[39m\n",
      "\u001b[1;32m/Users/sid/Desktop/Python Projects/4_Hashtable.ipynb Cell 27'\u001b[0m in \u001b[0;36mHashTable.__setitem__\u001b[0;34m(self, key, val)\u001b[0m\n\u001b[1;32m     <a href='vscode-notebook-cell:/Users/sid/Desktop/Python%20Projects/4_Hashtable.ipynb#ch0000023?line=26'>27</a>\u001b[0m     \u001b[39mself\u001b[39m\u001b[39m.\u001b[39marr[h] \u001b[39m=\u001b[39m (key,val)\n\u001b[1;32m     <a href='vscode-notebook-cell:/Users/sid/Desktop/Python%20Projects/4_Hashtable.ipynb#ch0000023?line=27'>28</a>\u001b[0m \u001b[39melse\u001b[39;00m:\n\u001b[0;32m---> <a href='vscode-notebook-cell:/Users/sid/Desktop/Python%20Projects/4_Hashtable.ipynb#ch0000023?line=28'>29</a>\u001b[0m     new_h \u001b[39m=\u001b[39m \u001b[39mself\u001b[39;49m\u001b[39m.\u001b[39;49mfind_slot(key,h)\n\u001b[1;32m     <a href='vscode-notebook-cell:/Users/sid/Desktop/Python%20Projects/4_Hashtable.ipynb#ch0000023?line=29'>30</a>\u001b[0m     \u001b[39mself\u001b[39m\u001b[39m.\u001b[39marr[new_h] \u001b[39m=\u001b[39m (key,val)\n\u001b[1;32m     <a href='vscode-notebook-cell:/Users/sid/Desktop/Python%20Projects/4_Hashtable.ipynb#ch0000023?line=30'>31</a>\u001b[0m \u001b[39mprint\u001b[39m(\u001b[39mself\u001b[39m\u001b[39m.\u001b[39marr)\n",
      "\u001b[1;32m/Users/sid/Desktop/Python Projects/4_Hashtable.ipynb Cell 27'\u001b[0m in \u001b[0;36mHashTable.find_slot\u001b[0;34m(self, key, index)\u001b[0m\n\u001b[1;32m     <a href='vscode-notebook-cell:/Users/sid/Desktop/Python%20Projects/4_Hashtable.ipynb#ch0000023?line=41'>42</a>\u001b[0m     \u001b[39mif\u001b[39;00m \u001b[39mself\u001b[39m\u001b[39m.\u001b[39marr[prob_index][\u001b[39m0\u001b[39m] \u001b[39m==\u001b[39m key:\n\u001b[1;32m     <a href='vscode-notebook-cell:/Users/sid/Desktop/Python%20Projects/4_Hashtable.ipynb#ch0000023?line=42'>43</a>\u001b[0m         \u001b[39mreturn\u001b[39;00m prob_index\n\u001b[0;32m---> <a href='vscode-notebook-cell:/Users/sid/Desktop/Python%20Projects/4_Hashtable.ipynb#ch0000023?line=43'>44</a>\u001b[0m \u001b[39mraise\u001b[39;00m \u001b[39mException\u001b[39;00m(\u001b[39m\"\u001b[39m\u001b[39mHashMap is full\u001b[39m\u001b[39m\"\u001b[39m)\n",
      "\u001b[0;31mException\u001b[0m: HashMap is full"
     ]
    }
   ],
   "source": [
    "t[\"Jan 7\"]=0"
   ]
  },
  {
   "cell_type": "code",
   "execution_count": null,
   "metadata": {},
   "outputs": [],
   "source": []
  }
 ],
 "metadata": {
  "interpreter": {
   "hash": "aee8b7b246df8f9039afb4144a1f6fd8d2ca17a180786b69acc140d282b71a49"
  },
  "kernelspec": {
   "display_name": "Python 3.9.13 64-bit",
   "language": "python",
   "name": "python3"
  },
  "language_info": {
   "name": "python",
   "version": "3.9.13"
  },
  "orig_nbformat": 4
 },
 "nbformat": 4,
 "nbformat_minor": 2
}
