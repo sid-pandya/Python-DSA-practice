{
 "cells": [
  {
   "cell_type": "markdown",
   "metadata": {},
   "source": [
    "**1) Write a function in python that can reverse a string using stack data structure. Use Stack class from the tutorial.**"
   ]
  },
  {
   "cell_type": "code",
   "execution_count": null,
   "metadata": {},
   "outputs": [],
   "source": [
    "from collections import deque\n",
    "class Stack:\n",
    "    def __init__(self):\n",
    "        self.container = deque()\n",
    "    \n",
    "    def push(self,val):\n",
    "        self.container.append(val)\n",
    "        \n",
    "    def pop(self):\n",
    "        return self.container.pop()\n",
    "    \n",
    "    def peek(self):\n",
    "        return  self.container[-1]\n",
    "    \n",
    "    def is_empty(self):\n",
    "        return len(self.container)==0\n",
    "    \n",
    "    def size(self):\n",
    "        return len(self.container)"
   ]
  },
  {
   "cell_type": "code",
   "execution_count": null,
   "metadata": {},
   "outputs": [],
   "source": [
    "    def reverse_string(line):\n",
    "        s = Stack()\n",
    "\n",
    "        for ch in line:\n",
    "            s.push(ch)\n",
    "        revs = ''\n",
    "        while s.size() != 0:\n",
    "            revs += s.pop()\n",
    "        return revs"
   ]
  },
  {
   "cell_type": "code",
   "execution_count": 43,
   "metadata": {},
   "outputs": [
    {
     "data": {
      "text/plain": [
       "3"
      ]
     },
     "execution_count": 43,
     "metadata": {},
     "output_type": "execute_result"
    }
   ],
   "source": [
    "        print(reverse_string(\"HELLO\"))\n",
    "\n",
    "\n"
   ]
  },
  {
   "cell_type": "markdown",
   "metadata": {},
   "source": [
    "**2) Write a function in python that checks if paranthesis in the string are balanced or not. Possible parantheses are \"{}',\"()\" or \"[]\".**"
   ]
  },
  {
   "cell_type": "code",
   "execution_count": null,
   "metadata": {},
   "outputs": [],
   "source": [
    "def is_match(ch1,ch2):\n",
    "    match_dict = {\n",
    "        ')' : '(',\n",
    "        '}' : '{',\n",
    "        ']' : '['\n",
    "    }\n",
    "    return match_dict[ch1] == ch2\n",
    "\n",
    "def bal_para(p):\n",
    "    stack = Stack()\n",
    "    for cha in p:\n",
    "        if cha == '(' or cha =='{' or cha == '[':\n",
    "            stack.push(cha)\n",
    "        if cha == ')' or cha ==  '}' or cha == ']':\n",
    "            if stack.size() == 0:\n",
    "                return False\n",
    "            if not is_match(cha,stack.pop()):\n",
    "                return False\n",
    "    return stack.size() == 0\n"
   ]
  },
  {
   "cell_type": "code",
   "execution_count": null,
   "metadata": {},
   "outputs": [
    {
     "name": "stdout",
     "output_type": "stream",
     "text": [
      "True\n",
      "False\n"
     ]
    }
   ],
   "source": [
    "if __name__ == '__main__':\n",
    "    print(bal_para(\"({a+b})\"))\n",
    "    print(bal_para(\"))((a+b}{\"))"
   ]
  },
  {
   "cell_type": "code",
   "execution_count": null,
   "metadata": {},
   "outputs": [],
   "source": [
    "def isValid(self, s: str) -> bool:\n",
    "        match_dict = {\n",
    "            '(' : ')',\n",
    "            '{' : '}',\n",
    "            '[' : ']'\n",
    "        }        \n",
    "        stack = []\n",
    "        for cha in s:\n",
    "            if cha in match_dict:\n",
    "                stack.append(cha)\n",
    "            elif len(stack) == 0 or match_dict[stack.pop()] != cha:\n",
    "                return False\n",
    "            \n",
    "        return len(stack) == 0"
   ]
  },
  {
   "cell_type": "code",
   "execution_count": 36,
   "metadata": {},
   "outputs": [],
   "source": [
    "def is_Valid(self, s: str) -> bool:\n",
    "        while \"()\" in s or \"{}\" in s or '[]' in s:\n",
    "            s = s.replace(\"()\",\"\").replace(\"{}\",\"\").replace(\"[]\",\"\")\n",
    "        if s == \"\":\n",
    "            return True"
   ]
  },
  {
   "cell_type": "code",
   "execution_count": 37,
   "metadata": {},
   "outputs": [],
   "source": [
    "def isValid(self, s: str) -> bool:\n",
    "        n = -1\n",
    "        while n!=len(s):\n",
    "            n = len(s)\n",
    "            s = s.replace(\"()\", \"\")\n",
    "            s = s.replace(\"[]\", \"\")\n",
    "            s = s.replace(\"{}\", \"\")\n",
    "            \n",
    "        if len(s)==0:\n",
    "            return True\n",
    "        return False"
   ]
  },
  {
   "cell_type": "code",
   "execution_count": null,
   "metadata": {},
   "outputs": [],
   "source": []
  }
 ],
 "metadata": {
  "interpreter": {
   "hash": "aee8b7b246df8f9039afb4144a1f6fd8d2ca17a180786b69acc140d282b71a49"
  },
  "kernelspec": {
   "display_name": "Python 3.9.13 64-bit",
   "language": "python",
   "name": "python3"
  },
  "language_info": {
   "codemirror_mode": {
    "name": "ipython",
    "version": 3
   },
   "file_extension": ".py",
   "mimetype": "text/x-python",
   "name": "python",
   "nbconvert_exporter": "python",
   "pygments_lexer": "ipython3",
   "version": "3.9.13"
  },
  "orig_nbformat": 4
 },
 "nbformat": 4,
 "nbformat_minor": 2
}
